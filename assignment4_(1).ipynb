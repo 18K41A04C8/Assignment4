{
  "nbformat": 4,
  "nbformat_minor": 0,
  "metadata": {
    "colab": {
      "name": "assignment4_(1)",
      "provenance": [],
      "collapsed_sections": []
    },
    "kernelspec": {
      "name": "python3",
      "display_name": "Python 3"
    }
  },
  "cells": [
    {
      "cell_type": "markdown",
      "metadata": {
        "id": "OLqFkki-CyPH"
      },
      "source": [
        "Find the salary for the experience of 4.2 years and 5.2 years from the given dataset (salary_data) using simple linear regression. Train the model up to 10 iteration. And plot graph for error rate."
      ]
    },
    {
      "cell_type": "code",
      "metadata": {
        "id": "ziRC1qicX4wI"
      },
      "source": [
        "import numpy as np\n",
        "import pandas as pd\n",
        "import matplotlib.pyplot as plt\n",
        "\n",
        "er=[]\n",
        "m1=[]\n",
        "c1=[]\n",
        "te=[]\n",
        "def compute_error(c, m, x,y):\n",
        "    totalError = 0\n",
        "    x = x\n",
        "    y = y\n",
        "    #print(c,m)\n",
        "    m1.append(m)\n",
        "    c1.append(c)\n",
        "    for i in range(0,len(x)):\n",
        "        totalError+=(((m * x[i] + c)-y[i]) ** 2)\n",
        "      #te.append(totalError)\n",
        "    #print(te)\n",
        "    #err=(np.array(te).sum())\n",
        "    er.append(totalError/len(x))\n",
        "    #print(er)\n",
        "\n",
        "def step_gradient(c_current, m_current, x,y, learningRate):\n",
        "    c_gradient = 0.0\n",
        "    m_gradient = 0.0\n",
        "    N = float(len(x))\n",
        "    x = x\n",
        "    y = y\n",
        "    cg=[]\n",
        "    mg=[]\n",
        "    for i in range(0,len(x)):\n",
        "        cg.append(((m_current * x[i]) + c_current)-y[i])\n",
        "        mg.append(x[i] * (((m_current * x) + c_current)-y[i]))\n",
        "    c_gradient=(np.array(cg).sum())/N\n",
        "    m_gradient=(np.array(mg).sum())/N\n",
        "    new_c = c_current - (learningRate * c_gradient)\n",
        "    new_m = m_current - (learningRate * m_gradient)\n",
        "    compute_error(new_c,new_m,x,y)\n",
        "    return [new_c, new_m]\n",
        "\n",
        "def gradient_descent_runner(x,y, starting_c, starting_m, learning_rate, num_iterations):\n",
        "    c = starting_c\n",
        "    m = starting_m\n",
        "    for i in range(num_iterations):\n",
        "        c,m=step_gradient(c, m, x,y, learning_rate)\n",
        "      #print(c,m)\n",
        "   \n",
        "def run():\n",
        "    sn = pd.read_csv(\"/content/Salary_Data.csv\")\n",
        "    x1=sn.iloc[:,0:1]\n",
        "    y1=sn.iloc[:,1:2]\n",
        "    x=np.array(x1)\n",
        "    y=np.array(y1)\n",
        "    learning_rate = 0.001\n",
        "    initial_c = 1 # initial y-intercept guess\n",
        "    initial_m = 1 # initial slope guess\n",
        "    num_iterations = 30\n",
        "    compute_error(initial_c, initial_m,x,y)\n",
        "    gradient_descent_runner(x,y, initial_c, initial_m, learning_rate, num_iterations)\n",
        "    \n",
        "run()\n",
        "it=np.arange(0,101)\n",
        "#print(er)\n",
        "#plt.plot(it,er)"
      ],
      "execution_count": 12,
      "outputs": []
    },
    {
      "cell_type": "code",
      "metadata": {
        "id": "GT9f5gf6YWF_",
        "outputId": "e35ddf30-8607-4d4b-bdbc-dd229de59953",
        "colab": {
          "base_uri": "https://localhost:8080/",
          "height": 357
        }
      },
      "source": [
        "sn = pd.read_csv(\"/content/Salary_Data.csv\")\n",
        "x1=sn.iloc[:,0:1]\n",
        "y1=sn.iloc[:,1:2]\n",
        "x=np.array(x1)\n",
        "plt.scatter(x1,y1)\n",
        "m=max(np.array(m1))\n",
        "c=min(np.array(c1))\n",
        "e=np.array(er)\n",
        "print(er)\n",
        "e1=min(e)\n",
        "print(er.index(e1))\n",
        "print(m1[er.index(e1)],c1[er.index(e1)])\n",
        "p=[]\n",
        "for i in range(0,len(x1)):\n",
        "    p.append(m1[er.index(e1)]*x[i]+c1[er.index(e1)])\n",
        "plt.plot(x1,p)"
      ],
      "execution_count": 13,
      "outputs": [
        {
          "output_type": "stream",
          "text": [
            "[array([6.50184851e+09]), array([2.16091161e+08]), array([5.56540063e+08]), array([6.38537772e+08]), array([6.51956578e+08]), array([6.54269287e+08]), array([6.54877442e+08]), array([6.55226099e+08]), array([6.55535374e+08]), array([6.55838748e+08]), array([6.56141315e+08]), array([6.56443848e+08]), array([6.56746466e+08]), array([6.57049186e+08]), array([6.57352011e+08]), array([6.57654941e+08]), array([6.57957977e+08]), array([6.58261119e+08]), array([6.58564365e+08]), array([6.58867718e+08]), array([6.59171175e+08]), array([6.59474739e+08]), array([6.59778407e+08]), array([6.60082182e+08]), array([6.60386061e+08]), array([6.60690047e+08]), array([6.60994137e+08]), array([6.61298334e+08]), array([6.61602635e+08]), array([6.61907042e+08]), array([6.62211555e+08])]\n",
            "1\n",
            "14321.954654666666 76.99668666666668\n"
          ],
          "name": "stdout"
        },
        {
          "output_type": "execute_result",
          "data": {
            "text/plain": [
              "[<matplotlib.lines.Line2D at 0x7faabbf49048>]"
            ]
          },
          "metadata": {
            "tags": []
          },
          "execution_count": 13
        },
        {
          "output_type": "display_data",
          "data": {
            "image/png": "[encoded data removed]",
            "text/plain": [
              "<Figure size 432x288 with 1 Axes>"
            ]
          },
          "metadata": {
            "tags": [],
            "needs_background": "light"
          }
        }
      ]
    },
    {
      "cell_type": "code",
      "metadata": {
        "id": "dilE24vIYY13",
        "outputId": "88d65667-17ac-451b-960a-211a695e4aab",
        "colab": {
          "base_uri": "https://localhost:8080/",
          "height": 308
        }
      },
      "source": [
        "a=np.arange(0,31)\n",
        "plt.plot(a,er)\n",
        "plt.xlabel(\"Iterations\")\n",
        "plt.ylabel(\"Error\")"
      ],
      "execution_count": 14,
      "outputs": [
        {
          "output_type": "execute_result",
          "data": {
            "text/plain": [
              "Text(0, 0.5, 'Error')"
            ]
          },
          "metadata": {
            "tags": []
          },
          "execution_count": 14
        },
        {
          "output_type": "display_data",
          "data": {
            "image/png": "[encoded data removed]",
            "text/plain": [
              "<Figure size 432x288 with 1 Axes>"
            ]
          },
          "metadata": {
            "tags": [],
            "needs_background": "light"
          }
        }
      ]
    },
    {
      "cell_type": "code",
      "metadata": {
        "id": "-ETtzK0BiIAA",
        "outputId": "17cee772-ab34-43e4-c98a-39a72bff9abe",
        "colab": {
          "base_uri": "https://localhost:8080/",
          "height": 54
        }
      },
      "source": [
        "yr1=m1[er.index(e1)]*4.2+c1[er.index(e1)]\n",
        "yr2=m1[er.index(e1)]*5.2+c1[er.index(e1)]\n",
        "print(\"Salary for 4.2 years experience :\",yr1)\n",
        "print(\"Salary for 5.2 years experience :\",yr2)"
      ],
      "execution_count": 15,
      "outputs": [
        {
          "output_type": "stream",
          "text": [
            "Salary for 4.2 years experience : 60229.20623626666\n",
            "Salary for 5.2 years experience : 74551.16089093333\n"
          ],
          "name": "stdout"
        }
      ]
    }
  ]
}